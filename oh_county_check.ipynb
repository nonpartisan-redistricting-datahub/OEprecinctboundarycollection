{
 "cells": [
  {
   "cell_type": "code",
   "execution_count": 1,
   "id": "d8aa3333-7a6c-4e53-846f-aad770f4aa70",
   "metadata": {},
   "outputs": [],
   "source": [
    "import pandas as pd\n",
    "import geopandas as gp"
   ]
  },
  {
   "cell_type": "code",
   "execution_count": 2,
   "id": "aa890ef1-6ed8-404d-9c3d-de015861ea58",
   "metadata": {},
   "outputs": [],
   "source": [
    "df22 = pd.read_csv('./oh_2022_gen_prec/oh_2022_gen_prec.csv')"
   ]
  },
  {
   "cell_type": "code",
   "execution_count": 3,
   "id": "bf0b4990-069b-4eea-860a-3e6eb3dc17d3",
   "metadata": {},
   "outputs": [],
   "source": [
    "df20 = gp.read_file('./oh_vest_20/oh_vest_20.shp')"
   ]
  },
  {
   "cell_type": "code",
   "execution_count": 4,
   "id": "ca9e2d88-6976-469a-ad4d-fd532d6176ae",
   "metadata": {},
   "outputs": [
    {
     "data": {
      "text/plain": [
       "(8941, 11)"
      ]
     },
     "execution_count": 4,
     "metadata": {},
     "output_type": "execute_result"
    }
   ],
   "source": [
    "df20.shape"
   ]
  },
  {
   "cell_type": "code",
   "execution_count": 5,
   "id": "e88cb974-d483-4364-b107-d43eea612dd3",
   "metadata": {},
   "outputs": [
    {
     "data": {
      "text/plain": [
       "(8933, 259)"
      ]
     },
     "execution_count": 5,
     "metadata": {},
     "output_type": "execute_result"
    }
   ],
   "source": [
    "df22.shape"
   ]
  },
  {
   "cell_type": "code",
   "execution_count": 6,
   "id": "84c679e0-dded-4915-8491-53d9b9f4982b",
   "metadata": {},
   "outputs": [],
   "source": [
    "df20['ID'] = df20['COUNTYFP20'].str.zfill(3) + '-' + df20['PRECINCT20']\n",
    "df22['COUNTYFP22'] = df22['COUNTYFP'].astype(str).str.zfill(3)\n",
    "df22['ID'] = df22['COUNTYFP22'] + '-' + df22['PRECCODE']\n",
    "merge_id = pd.merge(df20[['ID', 'COUNTYFP20','PRECINCT20', 'NAME20']], df22[['ID', 'COUNTYFP22', 'PRECCODE', 'PRECNAME', 'County']], on='ID', how='outer',indicator=True)"
   ]
  },
  {
   "cell_type": "code",
   "execution_count": 7,
   "id": "89409dfc-1f8e-4dc8-b4a4-4774eaa4c031",
   "metadata": {},
   "outputs": [],
   "source": [
    "county_not_all_match = set(merge_id['COUNTYFP20'][(merge_id['_merge']!='both')])\n",
    "county_all_match = set(merge_id['COUNTYFP20'])-county_not_all_match"
   ]
  },
  {
   "cell_type": "code",
   "execution_count": 8,
   "id": "373b3387-e9b6-4f8c-ad84-667ff473c8ff",
   "metadata": {
    "tags": []
   },
   "outputs": [
    {
     "data": {
      "text/plain": [
       "{'007',\n",
       " '023',\n",
       " '029',\n",
       " '035',\n",
       " '043',\n",
       " '061',\n",
       " '073',\n",
       " '085',\n",
       " '093',\n",
       " '095',\n",
       " '101',\n",
       " '113',\n",
       " '123',\n",
       " '133',\n",
       " '151',\n",
       " nan}"
      ]
     },
     "execution_count": 8,
     "metadata": {},
     "output_type": "execute_result"
    }
   ],
   "source": [
    "county_not_all_match"
   ]
  },
  {
   "cell_type": "code",
   "execution_count": 9,
   "id": "e91e2bee-3ce7-4622-8080-1729e5d601f7",
   "metadata": {
    "tags": []
   },
   "outputs": [
    {
     "data": {
      "text/plain": [
       "{'001',\n",
       " '003',\n",
       " '005',\n",
       " '009',\n",
       " '011',\n",
       " '013',\n",
       " '015',\n",
       " '017',\n",
       " '019',\n",
       " '021',\n",
       " '025',\n",
       " '027',\n",
       " '031',\n",
       " '033',\n",
       " '037',\n",
       " '039',\n",
       " '041',\n",
       " '045',\n",
       " '047',\n",
       " '049',\n",
       " '051',\n",
       " '053',\n",
       " '055',\n",
       " '057',\n",
       " '059',\n",
       " '063',\n",
       " '065',\n",
       " '067',\n",
       " '069',\n",
       " '071',\n",
       " '075',\n",
       " '077',\n",
       " '079',\n",
       " '081',\n",
       " '083',\n",
       " '087',\n",
       " '089',\n",
       " '091',\n",
       " '097',\n",
       " '099',\n",
       " '103',\n",
       " '105',\n",
       " '107',\n",
       " '109',\n",
       " '111',\n",
       " '115',\n",
       " '117',\n",
       " '119',\n",
       " '121',\n",
       " '125',\n",
       " '127',\n",
       " '129',\n",
       " '131',\n",
       " '135',\n",
       " '137',\n",
       " '139',\n",
       " '141',\n",
       " '143',\n",
       " '145',\n",
       " '147',\n",
       " '149',\n",
       " '153',\n",
       " '155',\n",
       " '157',\n",
       " '159',\n",
       " '161',\n",
       " '163',\n",
       " '165',\n",
       " '167',\n",
       " '169',\n",
       " '171',\n",
       " '173',\n",
       " '175'}"
      ]
     },
     "execution_count": 9,
     "metadata": {},
     "output_type": "execute_result"
    }
   ],
   "source": [
    "county_all_match"
   ]
  },
  {
   "cell_type": "code",
   "execution_count": 10,
   "id": "ad1d1242-7824-42c7-8118-b664fe98d6ff",
   "metadata": {},
   "outputs": [],
   "source": [
    "df20['prec_counter_20']=1\n",
    "df22['prec_counter_22']=1\n",
    "gpby20 = df20.groupby(['COUNTYFP20']).sum().reset_index()\n",
    "gpby22 = df22.groupby(['COUNTYFP22']).sum().reset_index()\n",
    "gpby_merge = pd.merge(gpby20, gpby22, left_on='COUNTYFP20', right_on='COUNTYFP22', how = 'outer',indicator=True)"
   ]
  },
  {
   "cell_type": "code",
   "execution_count": 11,
   "id": "112f00e5-a78f-41cc-80a6-b32b63110a36",
   "metadata": {},
   "outputs": [
    {
     "data": {
      "text/html": [
       "<div>\n",
       "<style scoped>\n",
       "    .dataframe tbody tr th:only-of-type {\n",
       "        vertical-align: middle;\n",
       "    }\n",
       "\n",
       "    .dataframe tbody tr th {\n",
       "        vertical-align: top;\n",
       "    }\n",
       "\n",
       "    .dataframe thead th {\n",
       "        text-align: right;\n",
       "    }\n",
       "</style>\n",
       "<table border=\"1\" class=\"dataframe\">\n",
       "  <thead>\n",
       "    <tr style=\"text-align: right;\">\n",
       "      <th></th>\n",
       "      <th>COUNTYFP20</th>\n",
       "      <th>COUNTYFP22</th>\n",
       "      <th>prec_counter_20</th>\n",
       "      <th>prec_counter_22</th>\n",
       "    </tr>\n",
       "  </thead>\n",
       "  <tbody>\n",
       "    <tr>\n",
       "      <th>3</th>\n",
       "      <td>007</td>\n",
       "      <td>007</td>\n",
       "      <td>105</td>\n",
       "      <td>104</td>\n",
       "    </tr>\n",
       "    <tr>\n",
       "      <th>7</th>\n",
       "      <td>015</td>\n",
       "      <td>015</td>\n",
       "      <td>32</td>\n",
       "      <td>33</td>\n",
       "    </tr>\n",
       "    <tr>\n",
       "      <th>8</th>\n",
       "      <td>017</td>\n",
       "      <td>017</td>\n",
       "      <td>282</td>\n",
       "      <td>291</td>\n",
       "    </tr>\n",
       "    <tr>\n",
       "      <th>11</th>\n",
       "      <td>023</td>\n",
       "      <td>023</td>\n",
       "      <td>90</td>\n",
       "      <td>76</td>\n",
       "    </tr>\n",
       "    <tr>\n",
       "      <th>12</th>\n",
       "      <td>025</td>\n",
       "      <td>025</td>\n",
       "      <td>166</td>\n",
       "      <td>168</td>\n",
       "    </tr>\n",
       "    <tr>\n",
       "      <th>14</th>\n",
       "      <td>029</td>\n",
       "      <td>029</td>\n",
       "      <td>87</td>\n",
       "      <td>73</td>\n",
       "    </tr>\n",
       "    <tr>\n",
       "      <th>17</th>\n",
       "      <td>035</td>\n",
       "      <td>035</td>\n",
       "      <td>976</td>\n",
       "      <td>975</td>\n",
       "    </tr>\n",
       "    <tr>\n",
       "      <th>20</th>\n",
       "      <td>041</td>\n",
       "      <td>041</td>\n",
       "      <td>165</td>\n",
       "      <td>167</td>\n",
       "    </tr>\n",
       "    <tr>\n",
       "      <th>21</th>\n",
       "      <td>043</td>\n",
       "      <td>043</td>\n",
       "      <td>63</td>\n",
       "      <td>62</td>\n",
       "    </tr>\n",
       "    <tr>\n",
       "      <th>30</th>\n",
       "      <td>061</td>\n",
       "      <td>061</td>\n",
       "      <td>563</td>\n",
       "      <td>562</td>\n",
       "    </tr>\n",
       "    <tr>\n",
       "      <th>36</th>\n",
       "      <td>073</td>\n",
       "      <td>073</td>\n",
       "      <td>21</td>\n",
       "      <td>20</td>\n",
       "    </tr>\n",
       "    <tr>\n",
       "      <th>42</th>\n",
       "      <td>085</td>\n",
       "      <td>085</td>\n",
       "      <td>164</td>\n",
       "      <td>163</td>\n",
       "    </tr>\n",
       "    <tr>\n",
       "      <th>46</th>\n",
       "      <td>093</td>\n",
       "      <td>093</td>\n",
       "      <td>194</td>\n",
       "      <td>203</td>\n",
       "    </tr>\n",
       "    <tr>\n",
       "      <th>50</th>\n",
       "      <td>101</td>\n",
       "      <td>101</td>\n",
       "      <td>65</td>\n",
       "      <td>45</td>\n",
       "    </tr>\n",
       "    <tr>\n",
       "      <th>54</th>\n",
       "      <td>109</td>\n",
       "      <td>109</td>\n",
       "      <td>85</td>\n",
       "      <td>87</td>\n",
       "    </tr>\n",
       "    <tr>\n",
       "      <th>56</th>\n",
       "      <td>113</td>\n",
       "      <td>113</td>\n",
       "      <td>360</td>\n",
       "      <td>381</td>\n",
       "    </tr>\n",
       "    <tr>\n",
       "      <th>61</th>\n",
       "      <td>123</td>\n",
       "      <td>123</td>\n",
       "      <td>37</td>\n",
       "      <td>36</td>\n",
       "    </tr>\n",
       "    <tr>\n",
       "      <th>64</th>\n",
       "      <td>129</td>\n",
       "      <td>129</td>\n",
       "      <td>42</td>\n",
       "      <td>43</td>\n",
       "    </tr>\n",
       "    <tr>\n",
       "      <th>66</th>\n",
       "      <td>133</td>\n",
       "      <td>133</td>\n",
       "      <td>130</td>\n",
       "      <td>129</td>\n",
       "    </tr>\n",
       "    <tr>\n",
       "      <th>75</th>\n",
       "      <td>151</td>\n",
       "      <td>151</td>\n",
       "      <td>274</td>\n",
       "      <td>273</td>\n",
       "    </tr>\n",
       "    <tr>\n",
       "      <th>86</th>\n",
       "      <td>173</td>\n",
       "      <td>173</td>\n",
       "      <td>95</td>\n",
       "      <td>97</td>\n",
       "    </tr>\n",
       "  </tbody>\n",
       "</table>\n",
       "</div>"
      ],
      "text/plain": [
       "   COUNTYFP20 COUNTYFP22  prec_counter_20  prec_counter_22\n",
       "3         007        007              105              104\n",
       "7         015        015               32               33\n",
       "8         017        017              282              291\n",
       "11        023        023               90               76\n",
       "12        025        025              166              168\n",
       "14        029        029               87               73\n",
       "17        035        035              976              975\n",
       "20        041        041              165              167\n",
       "21        043        043               63               62\n",
       "30        061        061              563              562\n",
       "36        073        073               21               20\n",
       "42        085        085              164              163\n",
       "46        093        093              194              203\n",
       "50        101        101               65               45\n",
       "54        109        109               85               87\n",
       "56        113        113              360              381\n",
       "61        123        123               37               36\n",
       "64        129        129               42               43\n",
       "66        133        133              130              129\n",
       "75        151        151              274              273\n",
       "86        173        173               95               97"
      ]
     },
     "execution_count": 11,
     "metadata": {},
     "output_type": "execute_result"
    }
   ],
   "source": [
    "gpby_merge[['COUNTYFP20', 'COUNTYFP22', 'prec_counter_20', 'prec_counter_22']][gpby_merge['prec_counter_20']!= gpby_merge['prec_counter_22']]"
   ]
  },
  {
   "cell_type": "code",
   "execution_count": 12,
   "id": "800c369a-8d63-4bf4-98fe-ebead7cce1f0",
   "metadata": {},
   "outputs": [],
   "source": [
    "fips_dict = pd.Series(df22['County'].values, index=df22['COUNTYFP22']).to_dict()"
   ]
  },
  {
   "cell_type": "code",
   "execution_count": 13,
   "id": "dce73993-29e6-48f6-815d-b48f0c042dbd",
   "metadata": {},
   "outputs": [
    {
     "data": {
      "text/plain": [
       "array(['Lorain', 'Ottawa', 'Hamilton', 'Lucas', 'Montgomery',\n",
       "       'Columbiana', 'Erie', 'Clark', 'Lake', 'Cuyahoga', 'Marion',\n",
       "       'Portage', 'Stark', 'Ashtabula', 'Hocking', nan], dtype=object)"
      ]
     },
     "execution_count": 13,
     "metadata": {},
     "output_type": "execute_result"
    }
   ],
   "source": [
    "merge_id['COUNTYFP20'][(merge_id['_merge']!='both')].map(fips_dict).unique()"
   ]
  },
  {
   "cell_type": "code",
   "execution_count": 14,
   "id": "6d74186e-e364-4dd5-9622-7d5b77661ae4",
   "metadata": {},
   "outputs": [
    {
     "data": {
      "text/plain": [
       "array(['Athens', 'Union', 'Butler', 'Wood', 'Holmes', 'Fairfield',\n",
       "       'Shelby', 'Logan', 'Knox', 'Scioto', 'Auglaize', 'Clermont',\n",
       "       'Guernsey', 'Wyandot', 'Gallia', 'Crawford', 'Morgan', 'Monroe',\n",
       "       'Madison', 'Williams', 'Ashland', 'Delaware', 'Huron', 'Jackson',\n",
       "       'Washington', 'Trumbull', 'Highland', 'Noble', 'Ross', 'Clinton',\n",
       "       'Preble', 'Medina', 'Fayette', 'Defiance', 'Miami', 'Van Wert',\n",
       "       'Mahoning', 'Coshocton', 'Pickaway', 'Hardin', 'Putnam', 'Carroll',\n",
       "       'Meigs', 'Lawrence', 'Geauga', 'Darke', 'Fulton', 'Wayne',\n",
       "       'Belmont', 'Morrow', 'Adams', 'Brown', 'Henry', 'Muskingum',\n",
       "       'Hancock', 'Sandusky', 'Warren', 'Licking', 'Seneca', 'Richland',\n",
       "       'Summit', 'Pike', 'Allen', 'Franklin', 'Perry', 'Champaign',\n",
       "       'Harrison', 'Paulding', 'Tuscarawas', 'Mercer', 'Jefferson',\n",
       "       'Greene', 'Vinton'], dtype=object)"
      ]
     },
     "execution_count": 14,
     "metadata": {},
     "output_type": "execute_result"
    }
   ],
   "source": [
    "merge_id['COUNTYFP20'][merge_id['COUNTYFP20'].isin(county_all_match)].map(fips_dict).unique()"
   ]
  },
  {
   "cell_type": "code",
   "execution_count": null,
   "id": "1d8d20f6-d9f3-4e08-977c-485a5dc6070e",
   "metadata": {},
   "outputs": [],
   "source": []
  }
 ],
 "metadata": {
  "kernelspec": {
   "display_name": "pdv_env",
   "language": "python",
   "name": "pdv_env"
  },
  "language_info": {
   "codemirror_mode": {
    "name": "ipython",
    "version": 3
   },
   "file_extension": ".py",
   "mimetype": "text/x-python",
   "name": "python",
   "nbconvert_exporter": "python",
   "pygments_lexer": "ipython3",
   "version": "3.9.4"
  }
 },
 "nbformat": 4,
 "nbformat_minor": 5
}
